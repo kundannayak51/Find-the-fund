{
 "cells": [
  {
   "cell_type": "markdown",
   "metadata": {
    "colab_type": "text",
    "id": "8MmNgTetih1b"
   },
   "source": [
    "# Importing libraries "
   ]
  },
  {
   "cell_type": "code",
   "execution_count": 1,
   "metadata": {
    "colab": {},
    "colab_type": "code",
    "id": "PawjGKRZih1h"
   },
   "outputs": [
    {
     "ename": "ModuleNotFoundError",
     "evalue": "No module named 'missingno'",
     "output_type": "error",
     "traceback": [
      "\u001b[0;31m---------------------------------------------------------------------------\u001b[0m",
      "\u001b[0;31mModuleNotFoundError\u001b[0m                       Traceback (most recent call last)",
      "\u001b[0;32m<ipython-input-1-7ba49da23dfe>\u001b[0m in \u001b[0;36m<module>\u001b[0;34m\u001b[0m\n\u001b[1;32m      5\u001b[0m \u001b[0;32mfrom\u001b[0m \u001b[0msklearn\u001b[0m\u001b[0;34m.\u001b[0m\u001b[0mmetrics\u001b[0m \u001b[0;32mimport\u001b[0m \u001b[0maccuracy_score\u001b[0m\u001b[0;34m\u001b[0m\u001b[0;34m\u001b[0m\u001b[0m\n\u001b[1;32m      6\u001b[0m \u001b[0;32mimport\u001b[0m \u001b[0mseaborn\u001b[0m \u001b[0;32mas\u001b[0m \u001b[0msns\u001b[0m\u001b[0;34m\u001b[0m\u001b[0;34m\u001b[0m\u001b[0m\n\u001b[0;32m----> 7\u001b[0;31m \u001b[0;32mimport\u001b[0m \u001b[0mmissingno\u001b[0m\u001b[0;34m\u001b[0m\u001b[0;34m\u001b[0m\u001b[0m\n\u001b[0m",
      "\u001b[0;31mModuleNotFoundError\u001b[0m: No module named 'missingno'"
     ]
    }
   ],
   "source": [
    "import numpy as np\n",
    "import matplotlib.pyplot as plt\n",
    "import pandas as pd\n",
    "#from xgboost import XGBClassifier\n",
    "from sklearn.metrics import accuracy_score\n",
    "import seaborn as sns\n",
    "import missingno"
   ]
  },
  {
   "cell_type": "markdown",
   "metadata": {
    "colab_type": "text",
    "id": "U6rROGi2ih1q"
   },
   "source": [
    "# Importing the dataset"
   ]
  },
  {
   "cell_type": "code",
   "execution_count": null,
   "metadata": {
    "colab": {},
    "colab_type": "code",
    "id": "4Dto8NiTih1t",
    "outputId": "76a9413d-da6f-4e3b-ae2b-0a0f5c2a4f25"
   },
   "outputs": [],
   "source": [
    "train_set = pd.read_csv('train.csv')\n",
    "test_set = pd.read_csv('test.csv')\n",
    "#viewing the training data\n",
    "train_set.head()"
   ]
  },
  {
   "cell_type": "code",
   "execution_count": null,
   "metadata": {
    "colab": {},
    "colab_type": "code",
    "id": "ZjZ13rVgih13",
    "outputId": "6e4a1205-0190-4668-ee41-b259d9a0fa9b"
   },
   "outputs": [],
   "source": [
    "#viewing the test data\n",
    "test_set.head()"
   ]
  },
  {
   "cell_type": "markdown",
   "metadata": {
    "colab_type": "text",
    "id": "0d8_Ekb3ih19"
   },
   "source": [
    "## Data Pre-processing "
   ]
  },
  {
   "cell_type": "code",
   "execution_count": null,
   "metadata": {
    "colab": {},
    "colab_type": "code",
    "id": "xp2sP2K9ih1_"
   },
   "outputs": [],
   "source": [
    "#dropping the unwanted columns\n",
    "train_set = train_set.drop(columns = ['comp_name','website','founded_on','first_funding_date','last_funding_date'])\n",
    "train_set = train_set.drop(columns = ['domain','hq_country_code','hq_state_code','hq_region','hq_city'])\n"
   ]
  },
  {
   "cell_type": "code",
   "execution_count": null,
   "metadata": {
    "colab": {},
    "colab_type": "code",
    "id": "iDVHdVhGih2E",
    "outputId": "a752f76b-475d-4052-c0f4-670f4e88ff9d"
   },
   "outputs": [],
   "source": [
    "#counting the null values\n",
    "train_set.isnull().sum()"
   ]
  },
  {
   "cell_type": "code",
   "execution_count": null,
   "metadata": {
    "colab": {},
    "colab_type": "code",
    "id": "4u2qT7-uih2J",
    "outputId": "99439c02-c993-4c11-b4c9-d49400a3b010"
   },
   "outputs": [],
   "source": [
    "missingno.matrix(train_set,figsize=(30,10))"
   ]
  },
  {
   "cell_type": "code",
   "execution_count": null,
   "metadata": {
    "colab": {},
    "colab_type": "code",
    "id": "8ky3vHBvih2P",
    "outputId": "5ab6ba47-fc44-44f6-a0bc-db87643359e7"
   },
   "outputs": [],
   "source": [
    "#viewing datatypes\n",
    "train_set.dtypes"
   ]
  },
  {
   "cell_type": "markdown",
   "metadata": {
    "colab_type": "text",
    "id": "XPyETNjRih2X"
   },
   "source": [
    "# Target feature : successful_investment\n",
    "Description: Whether investment will be successfull or not!\n",
    "Key: 0 = not successfull , 1 = successfull\n",
    "This is the variable we want our machine learning model to predict."
   ]
  },
  {
   "cell_type": "code",
   "execution_count": null,
   "metadata": {
    "colab": {},
    "colab_type": "code",
    "id": "uEWh4zuNih2Y",
    "outputId": "474b1f23-1fc9-4417-8a51-864962c646f4"
   },
   "outputs": [],
   "source": [
    "fig = plt.figure(figsize=(20,1))\n",
    "sns.countplot(y='successful_investment',data=train_set);\n",
    "print(train_set.successful_investment.value_counts())"
   ]
  },
  {
   "cell_type": "code",
   "execution_count": null,
   "metadata": {
    "colab": {},
    "colab_type": "code",
    "id": "xd7DT7XZih2d",
    "outputId": "1d931342-fa32-4b5f-97dc-0aca049450f9"
   },
   "outputs": [],
   "source": [
    "#replacing the categorical value\n",
    "train_set = train_set.replace({'closed':0,'ipo':1,'operating':2,'acquired':3})\n",
    "#convert object datatype into float64\n",
    "train_set = train_set.convert_objects(convert_numeric=True)\n",
    "sns.distplot(train_set.op_status)"
   ]
  },
  {
   "cell_type": "code",
   "execution_count": null,
   "metadata": {
    "colab": {},
    "colab_type": "code",
    "id": "u191_tneih2k"
   },
   "outputs": [],
   "source": [
    "#dealing the missing data\n",
    "train_set.fillna(train_set.mean(), inplace=True)\n",
    "#extracting features from dataframe\n",
    "X = train_set.iloc[:, 0:8].values\n",
    "y = train_set.iloc[:, 8].values"
   ]
  },
  {
   "cell_type": "code",
   "execution_count": null,
   "metadata": {
    "colab": {},
    "colab_type": "code",
    "id": "ETgjjWwdih2o",
    "outputId": "2a5dfde2-a5c1-461f-ccaf-e8fb23266633"
   },
   "outputs": [],
   "source": [
    "train_set.describe()"
   ]
  },
  {
   "cell_type": "markdown",
   "metadata": {
    "colab_type": "text",
    "id": "xhU4DczMih2s"
   },
   "source": [
    "## Building Model  "
   ]
  },
  {
   "cell_type": "code",
   "execution_count": null,
   "metadata": {
    "colab": {},
    "colab_type": "code",
    "id": "Cp4fPxr1ih2u"
   },
   "outputs": [],
   "source": [
    "# splitting the dataset into test_set and train_set\n",
    "from sklearn.model_selection import train_test_split\n",
    "X_train, X_test, y_train, y_test = train_test_split(X, y, test_size = 0.2, random_state = 7)\n",
    "#building the binary-classifier\n",
    "model = XGBClassifier(max_depth=3,learning_rate=0.1,seed=1)\n",
    "model.fit(X_train,y_train,verbose=True)\n",
    "#predicting values of test-set\n",
    "y_pred=model.predict(X_test)\n",
    "#calculating accuracy\n",
    "accuracy=accuracy_score(y_test,y_pred)"
   ]
  },
  {
   "cell_type": "code",
   "execution_count": null,
   "metadata": {
    "colab": {},
    "colab_type": "code",
    "id": "0WkV1ERaih2y",
    "outputId": "497d4ebe-dec3-4eae-f303-9ba6ae0513bb"
   },
   "outputs": [],
   "source": [
    "print(accuracy)"
   ]
  },
  {
   "cell_type": "markdown",
   "metadata": {
    "colab_type": "text",
    "id": "_b4uBxmTih23"
   },
   "source": [
    "# **Preparing the Test set for predictions**"
   ]
  },
  {
   "cell_type": "code",
   "execution_count": null,
   "metadata": {
    "colab": {},
    "colab_type": "code",
    "id": "hOA05Mrfih24",
    "outputId": "9dca2a40-06e8-4226-dee3-4a982fb01854"
   },
   "outputs": [],
   "source": [
    "test_dataset = pd.read_csv('test.csv')\n",
    "test_dataset = test_dataset.drop(columns = ['comp_name','website','founded_on','first_funding_date','last_funding_date'])\n",
    "test_dataset = test_dataset.drop(columns = ['domain','hq_country_code','hq_state_code','hq_region','hq_city'])\n",
    "test_dataset = test_dataset.replace({'closed':0,'ipo':1,'operating':2,'acquired':3})\n",
    "test_dataset = test_dataset.convert_objects(convert_numeric=True)\n",
    "X1 = test_dataset.iloc[:, 0:8].values"
   ]
  },
  {
   "cell_type": "markdown",
   "metadata": {
    "colab_type": "text",
    "id": "FfvN_eC3e1ag"
   },
   "source": [
    "# **Predictions**"
   ]
  },
  {
   "cell_type": "code",
   "execution_count": null,
   "metadata": {
    "colab": {},
    "colab_type": "code",
    "id": "Y6Tyy8pQe9q1"
   },
   "outputs": [],
   "source": [
    "y_res=model.predict(X1)"
   ]
  },
  {
   "cell_type": "markdown",
   "metadata": {
    "colab_type": "text",
    "id": "pitiP08Cih28"
   },
   "source": [
    "# Making the submission csv file"
   ]
  },
  {
   "cell_type": "code",
   "execution_count": null,
   "metadata": {
    "colab": {},
    "colab_type": "code",
    "id": "An3G6Ey9ih29"
   },
   "outputs": [],
   "source": [
    "id_vec = np.array([   i   for i in range(0, y_res.shape[0])])\n",
    "y_res = np.concatenate([np.expand_dims(id_vec, axis=1), np.expand_dims(y_res, axis=1)], axis=1)\n",
    "#print(y_pred.shape)\n",
    "predict = pd.DataFrame(data=y_res, columns=['ID', 'successful_investment'])\n",
    "predict.to_csv(\"./answer.csv\", index=False, header=True)"
   ]
  },
  {
   "cell_type": "code",
   "execution_count": null,
   "metadata": {
    "colab": {},
    "colab_type": "code",
    "id": "CBHTwTFZih3B",
    "outputId": "db21a6ad-cd2f-4503-9b07-fb7a55367b29"
   },
   "outputs": [],
   "source": [
    "predict.describe()"
   ]
  },
  {
   "cell_type": "code",
   "execution_count": null,
   "metadata": {
    "colab": {},
    "colab_type": "code",
    "id": "RcW9Vg-qih3G",
    "outputId": "a99145d1-0429-46f9-8c11-b89d70fd08f6"
   },
   "outputs": [],
   "source": [
    "predict.head()"
   ]
  },
  {
   "cell_type": "code",
   "execution_count": null,
   "metadata": {
    "colab": {},
    "colab_type": "code",
    "id": "j1WsPvc7ih3K",
    "outputId": "77b8a473-c79f-46bb-c84d-2b6c6ca50143"
   },
   "outputs": [],
   "source": [
    "fig = plt.figure(figsize=(20,1))\n",
    "sns.countplot(y='successful_investment',data=predict);\n",
    "print(predict.successful_investment.value_counts())"
   ]
  }
 ],
 "metadata": {
  "colab": {
   "name": "Ftf.ipynb",
   "provenance": [],
   "version": "0.3.2"
  },
  "kernelspec": {
   "display_name": "Python 3",
   "language": "python",
   "name": "python3"
  },
  "language_info": {
   "codemirror_mode": {
    "name": "ipython",
    "version": 3
   },
   "file_extension": ".py",
   "mimetype": "text/x-python",
   "name": "python",
   "nbconvert_exporter": "python",
   "pygments_lexer": "ipython3",
   "version": "3.7.3"
  }
 },
 "nbformat": 4,
 "nbformat_minor": 1
}
